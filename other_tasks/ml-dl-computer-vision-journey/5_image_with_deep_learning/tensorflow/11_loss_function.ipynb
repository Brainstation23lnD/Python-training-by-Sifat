{
 "cells": [
  {
   "metadata": {
    "collapsed": true
   },
   "cell_type": "markdown",
   "source": [
    "## Loss function\n",
    "\n",
    "y = true label\n",
    "y` = predict label\n",
    "\n",
    "loss = y - y`\n",
    "\n",
    "loss function measures the performance.\n",
    "\n",
    "### Binary categorical cross entropy:\n",
    "\n",
    "Loss = -[y * log(p) + (1-y) * log(1-p)]\n",
    "\n",
    "y = true label\n",
    "\n",
    "p = predicted probability.\n",
    "\n",
    "cases:\n",
    "\n",
    "y = 1\n",
    "\n",
    "Loss = -log(p)\n",
    "\n",
    "p = 0.9\n",
    "loss = 0.046\n",
    "p = 0.1\n",
    "Loss = 1\n",
    "\n",
    "\n",
    "Task: Find out Loss function for different types of a computer vision task (including classification, detection, segmentation, etc.)\n",
    "\n",
    "classification:\n",
    "multiclass classification, cross entropy\n",
    "\n",
    "Regression:\n",
    "Bounding box, key point estimation, mean square error, mean absolute error.\n",
    "\n"
   ],
   "id": "b2a6488eecf10d80"
  }
 ],
 "metadata": {
  "kernelspec": {
   "display_name": "Python 3",
   "language": "python",
   "name": "python3"
  },
  "language_info": {
   "codemirror_mode": {
    "name": "ipython",
    "version": 2
   },
   "file_extension": ".py",
   "mimetype": "text/x-python",
   "name": "python",
   "nbconvert_exporter": "python",
   "pygments_lexer": "ipython2",
   "version": "2.7.6"
  }
 },
 "nbformat": 4,
 "nbformat_minor": 5
}
