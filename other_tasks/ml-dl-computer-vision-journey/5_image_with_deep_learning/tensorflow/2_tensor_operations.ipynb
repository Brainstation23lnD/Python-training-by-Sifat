{
 "cells": [
  {
   "cell_type": "code",
   "execution_count": null,
   "id": "initial_id",
   "metadata": {
    "collapsed": true
   },
   "outputs": [],
   "source": [
    "# addition\n",
    "# substraction\n",
    "# multiplication\n",
    "# division\n",
    "# matrix multiplication"
   ]
  },
  {
   "metadata": {},
   "cell_type": "markdown",
   "source": "<llm-snippet-file>/home/bs00815/Desktop/MachineLearning/ml-dl-computer-vision-journey/5_image_with_deep_learning/tensorflow/2_tensor_operations.ipynb</llm-snippet-file>\n",
   "id": "64a073ab95174885"
  },
  {
   "metadata": {
    "ExecuteTime": {
     "end_time": "2025-08-10T06:47:54.733048Z",
     "start_time": "2025-08-10T06:47:54.729286Z"
    }
   },
   "cell_type": "code",
   "source": [
    "import os\n",
    "\n",
    "os.environ[\"CUDA_VISIBLE_DEVICES\"] = \"-1\"\n",
    "import tensorflow as tf\n",
    "import numpy as np\n",
    "\n",
    "# tensor creation\n",
    "a = tf.constant([1, 2, 3])\n",
    "b = tf.constant([[1, 2], [3, 4]])\n",
    "\n",
    "print(\">>> a: \", a)\n",
    "print(\">>> b: \", b)\n"
   ],
   "id": "a731cc4174c0dd7c",
   "outputs": [
    {
     "name": "stdout",
     "output_type": "stream",
     "text": [
      ">>> a:  tf.Tensor([1 2 3], shape=(3,), dtype=int32)\n",
      ">>> b:  tf.Tensor(\n",
      "[[1 2]\n",
      " [3 4]], shape=(2, 2), dtype=int32)\n"
     ]
    }
   ],
   "execution_count": 9
  },
  {
   "metadata": {
    "ExecuteTime": {
     "end_time": "2025-08-10T06:48:52.624119Z",
     "start_time": "2025-08-10T06:48:52.609719Z"
    }
   },
   "cell_type": "code",
   "source": [
    "# Arithmetic operations\n",
    "c = tf.add(a, 5)\n",
    "d = tf.subtract(a, 5)\n",
    "e = tf.multiply(a, 5)\n",
    "f = tf.divide(a, 5)\n",
    "print(\"Addition: \", c)\n",
    "print(\"Subtraction: \", d)\n",
    "print(\"Multiplication: \", e)\n",
    "print(\"Division: \", f)"
   ],
   "id": "501699ad7b2ce25",
   "outputs": [
    {
     "name": "stdout",
     "output_type": "stream",
     "text": [
      "Addition:  tf.Tensor([6 7 8], shape=(3,), dtype=int32)\n",
      "Subtraction:  tf.Tensor([-4 -3 -2], shape=(3,), dtype=int32)\n",
      "Multiplication:  tf.Tensor([ 5 10 15], shape=(3,), dtype=int32)\n",
      "Division:  tf.Tensor([0.2 0.4 0.6], shape=(3,), dtype=float64)\n"
     ]
    }
   ],
   "execution_count": 10
  },
  {
   "metadata": {
    "ExecuteTime": {
     "end_time": "2025-08-10T06:53:30.342423Z",
     "start_time": "2025-08-10T06:53:30.337842Z"
    }
   },
   "cell_type": "code",
   "source": [
    "# element-wise operations between tensors (broadcasting applies)\n",
    "\n",
    "g = tf.constant([1, 2, 3])\n",
    "h = tf.constant([[1,2,3], [4,5,6]])\n",
    "\n",
    "#matrix addition\n",
    "i = tf.add(g, h)\n",
    "print(\"Matrix addition: g+h==\", i)\n",
    "\n",
    "print(\"\\n\")\n",
    "# matrix multiplication\n",
    "mat1 = tf.constant([[1, 2], [3, 4]])\n",
    "mat2 = tf.constant([[5, 6], [7, 8]])\n",
    "matmul = tf.matmul(mat1, mat2)\n",
    "print(\"Matrix mul===\", matmul)"
   ],
   "id": "55a765a6f84be554",
   "outputs": [
    {
     "name": "stdout",
     "output_type": "stream",
     "text": [
      "Matrix addition: g+h== tf.Tensor(\n",
      "[[2 4 6]\n",
      " [5 7 9]], shape=(2, 3), dtype=int32)\n",
      "\n",
      "\n",
      "Matrix mul=== tf.Tensor(\n",
      "[[19 22]\n",
      " [43 50]], shape=(2, 2), dtype=int32)\n"
     ]
    }
   ],
   "execution_count": 14
  },
  {
   "metadata": {
    "ExecuteTime": {
     "end_time": "2025-08-10T07:04:24.385058Z",
     "start_time": "2025-08-10T07:04:24.372042Z"
    }
   },
   "cell_type": "code",
   "source": [
    "# reshape\n",
    "reshaped = tf.reshape(mat2, [4,1])\n",
    "print(f'reshaped=={reshaped}\\n')\n",
    "\n",
    "sum_all = tf.reduce_sum(mat1)\n",
    "mean_all = tf.reduce_mean(mat2)\n",
    "sum_axis0 = tf.reduce_sum(mat2, axis=0)\n",
    "sum_axis1 = tf.reduce_sum(mat2, axis=1)\n",
    "print(f'sum_all=={sum_all}\\nmean_all=={mean_all}\\nsum_axis0=={sum_axis0}\\nsum_axis1=={sum_axis1}')"
   ],
   "id": "d4e7df2a4df9dd7",
   "outputs": [
    {
     "name": "stdout",
     "output_type": "stream",
     "text": [
      "reshaped==[[5]\n",
      " [6]\n",
      " [7]\n",
      " [8]]\n",
      "\n",
      "sum_all==10\n",
      "mean_all==6\n",
      "sum_axis0==[12 14]\n",
      "sum_axis1==[11 15]\n"
     ]
    }
   ],
   "execution_count": 16
  },
  {
   "metadata": {
    "ExecuteTime": {
     "end_time": "2025-08-10T07:06:48.419573Z",
     "start_time": "2025-08-10T07:06:48.407858Z"
    }
   },
   "cell_type": "code",
   "source": [
    "#slicing\n",
    "slice_example = tf.constant([[1, 2, 3, 4, 5], [6, 7, 8, 9, 10]])\n",
    "print(f'slice_example=={slice_example[1, 1:3]}\\n')\n",
    "\n",
    "# Logical Operation\n",
    "bool_tensor = tf.constant([True, False, True, False])\n",
    "logical_and = tf.logical_and(bool_tensor, tf.constant([True, True, False, True]))\n",
    "print(f'logical_and=={logical_and}\\n')"
   ],
   "id": "157f7aedd201cf4d",
   "outputs": [
    {
     "name": "stdout",
     "output_type": "stream",
     "text": [
      "slice_example==[7 8]\n",
      "\n",
      "logical_and==[ True False False False]\n",
      "\n"
     ]
    }
   ],
   "execution_count": 18
  },
  {
   "metadata": {
    "ExecuteTime": {
     "end_time": "2025-08-10T07:09:26.721660Z",
     "start_time": "2025-08-10T07:09:26.718865Z"
    }
   },
   "cell_type": "code",
   "source": [
    "# Casting type\n",
    "float_tensor = tf.constant([1, 2, 3])\n",
    "int_tensor = tf.cast(float_tensor, tf.float32)\n",
    "print(f'int_tensor=={int_tensor.numpy()}')"
   ],
   "id": "a26e9f289a78961a",
   "outputs": [
    {
     "name": "stdout",
     "output_type": "stream",
     "text": [
      "int_tensor==[1. 2. 3.]\n"
     ]
    }
   ],
   "execution_count": 21
  },
  {
   "metadata": {
    "ExecuteTime": {
     "end_time": "2025-08-10T07:09:37.846916Z",
     "start_time": "2025-08-10T07:09:37.843495Z"
    }
   },
   "cell_type": "code",
   "source": [
    "# random tensors\n",
    "rando_ = tf.random.uniform([2,3], minval=0, maxval=10, dtype=tf.int32)\n",
    "print(f'random_=={rando_.numpy()}')"
   ],
   "id": "f8c46bdcb4c83c56",
   "outputs": [
    {
     "name": "stdout",
     "output_type": "stream",
     "text": [
      "random_==[[6 8 9]\n",
      " [6 6 7]]\n"
     ]
    }
   ],
   "execution_count": 22
  }
 ],
 "metadata": {
  "kernelspec": {
   "display_name": "Python 3",
   "language": "python",
   "name": "python3"
  },
  "language_info": {
   "codemirror_mode": {
    "name": "ipython",
    "version": 2
   },
   "file_extension": ".py",
   "mimetype": "text/x-python",
   "name": "python",
   "nbconvert_exporter": "python",
   "pygments_lexer": "ipython2",
   "version": "2.7.6"
  }
 },
 "nbformat": 4,
 "nbformat_minor": 5
}
