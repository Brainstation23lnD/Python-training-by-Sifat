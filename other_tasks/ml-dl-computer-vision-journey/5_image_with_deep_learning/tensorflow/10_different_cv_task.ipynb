{
 "cells": [
  {
   "metadata": {
    "collapsed": true
   },
   "cell_type": "markdown",
   "source": [
    "## Which layer to use where?\n",
    "conv --> Batch normalization --> activation --> pooling\n",
    "\n",
    "## Different types of Computer Vision Task\n",
    "\n",
    "### Classification\n",
    "- Image classification\n",
    "- Multi-level classification.\n",
    "- Emotion Recognition\n",
    "- Gender classification\n",
    "\n",
    "### Regression\n",
    "- Image regression(e.g; age, dept)\n",
    "- Super regulation\n",
    "- Keypoint Localization\n",
    "- Pose Estimation\n",
    "\n",
    "### Detection & Localization\n",
    "- Object Detection\n",
    "- Object Tracking\n",
    "- Face Detection\n",
    "\n",
    "### Segmentation\n",
    "- Semantic Segmentation\n",
    "- Instance Segmentation\n",
    "- Panoptic Segmentation\n",
    "\n",
    "### Generative / Restoration\n",
    "- Super resolution\n",
    "- Image Inpainting\n",
    "- Style and Transfer\n",
    "- Image Generation\n",
    "- Noisy image/ Dehazing\n",
    "\n",
    "### Vision + Language\n",
    "- Image Captioning\n",
    "- Visual Question & answering\n",
    "- Scene Graph Generation."
   ],
   "id": "f124e99e08df8ae"
  },
  {
   "metadata": {},
   "cell_type": "code",
   "outputs": [],
   "execution_count": null,
   "source": "",
   "id": "aac7e66d8334b2b2"
  }
 ],
 "metadata": {
  "kernelspec": {
   "display_name": "Python 3",
   "language": "python",
   "name": "python3"
  },
  "language_info": {
   "codemirror_mode": {
    "name": "ipython",
    "version": 2
   },
   "file_extension": ".py",
   "mimetype": "text/x-python",
   "name": "python",
   "nbconvert_exporter": "python",
   "pygments_lexer": "ipython2",
   "version": "2.7.6"
  }
 },
 "nbformat": 4,
 "nbformat_minor": 5
}
