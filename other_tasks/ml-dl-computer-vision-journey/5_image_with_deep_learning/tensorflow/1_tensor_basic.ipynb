{
 "cells": [
  {
   "cell_type": "code",
   "id": "initial_id",
   "metadata": {
    "collapsed": true,
    "ExecuteTime": {
     "end_time": "2025-08-10T07:12:10.264406Z",
     "start_time": "2025-08-10T07:12:10.262446Z"
    }
   },
   "source": [
    "import tensorflow as tf\n",
    "import numpy as np"
   ],
   "outputs": [],
   "execution_count": 16
  },
  {
   "metadata": {
    "ExecuteTime": {
     "end_time": "2025-08-10T07:12:21.160378Z",
     "start_time": "2025-08-10T07:12:21.156820Z"
    }
   },
   "cell_type": "code",
   "source": [
    "# scalar or single data\n",
    "scalar = tf.constant(10)\n",
    "print(scalar)\n",
    "# scalar.shape # zero order tensor\n",
    "tf.rank(scalar)"
   ],
   "id": "179343f7e8b1f558",
   "outputs": [
    {
     "name": "stdout",
     "output_type": "stream",
     "text": [
      "tf.Tensor(10, shape=(), dtype=int32)\n"
     ]
    },
    {
     "data": {
      "text/plain": [
       "<tf.Tensor: shape=(), dtype=int32, numpy=0>"
      ]
     },
     "execution_count": 17,
     "metadata": {},
     "output_type": "execute_result"
    }
   ],
   "execution_count": 17
  },
  {
   "metadata": {
    "ExecuteTime": {
     "end_time": "2025-08-10T07:12:25.172294Z",
     "start_time": "2025-08-10T07:12:25.167504Z"
    }
   },
   "cell_type": "code",
   "source": [
    "# multiple data in row\n",
    "vector = tf.constant([1,2,3,4,4])\n",
    "print(tf.rank(vector))\n",
    "vector.shape # 1 order tensor"
   ],
   "id": "caed222014079470",
   "outputs": [
    {
     "name": "stdout",
     "output_type": "stream",
     "text": [
      "tf.Tensor(1, shape=(), dtype=int32)\n"
     ]
    },
    {
     "data": {
      "text/plain": [
       "TensorShape([5])"
      ]
     },
     "execution_count": 18,
     "metadata": {},
     "output_type": "execute_result"
    }
   ],
   "execution_count": 18
  },
  {
   "metadata": {
    "ExecuteTime": {
     "end_time": "2025-08-10T05:29:58.534824Z",
     "start_time": "2025-08-10T05:29:58.530315Z"
    }
   },
   "cell_type": "code",
   "source": [
    "vector2 = tf.constant([[1,2,3], [4,5,6]])\n",
    "tf.rank(vector2)\n",
    "print(vector2.shape)"
   ],
   "id": "cbbd01bf7ac64dd0",
   "outputs": [
    {
     "name": "stdout",
     "output_type": "stream",
     "text": [
      "(2, 3)\n"
     ]
    }
   ],
   "execution_count": 12
  },
  {
   "metadata": {
    "ExecuteTime": {
     "end_time": "2025-08-10T06:00:23.021442Z",
     "start_time": "2025-08-10T06:00:23.017080Z"
    }
   },
   "cell_type": "code",
   "source": [
    "matrix = tf.constant([\n",
    "    [[1,2,3], [4,5,6]],\n",
    "    [[7,8,9], [10,11,12]],\n",
    "    [[13,14,15], [16,17,18]]\n",
    "])\n",
    "# shape (3,2,3)\n",
    "# matrix.shape\n",
    "print(tf.rank(matrix))\n",
    "matrix"
   ],
   "id": "d752d00dd62e1b48",
   "outputs": [
    {
     "name": "stdout",
     "output_type": "stream",
     "text": [
      "tf.Tensor(3, shape=(), dtype=int32)\n"
     ]
    },
    {
     "data": {
      "text/plain": [
       "<tf.Tensor: shape=(3, 2, 3), dtype=int32, numpy=\n",
       "array([[[ 1,  2,  3],\n",
       "        [ 4,  5,  6]],\n",
       "\n",
       "       [[ 7,  8,  9],\n",
       "        [10, 11, 12]],\n",
       "\n",
       "       [[13, 14, 15],\n",
       "        [16, 17, 18]]], dtype=int32)>"
      ]
     },
     "execution_count": 15,
     "metadata": {},
     "output_type": "execute_result"
    }
   ],
   "execution_count": 15
  },
  {
   "metadata": {
    "ExecuteTime": {
     "end_time": "2025-08-10T07:13:44.517900Z",
     "start_time": "2025-08-10T07:13:44.513936Z"
    }
   },
   "cell_type": "code",
   "source": [
    "# Create tensor\n",
    "tensor0 = tf.zeros([2, 1, 3])\n",
    "tensor0"
   ],
   "id": "8021bca27e1c6cc3",
   "outputs": [
    {
     "data": {
      "text/plain": [
       "<tf.Tensor: shape=(2, 1, 3), dtype=float32, numpy=\n",
       "array([[[0., 0., 0.]],\n",
       "\n",
       "       [[0., 0., 0.]]], dtype=float32)>"
      ]
     },
     "execution_count": 22,
     "metadata": {},
     "output_type": "execute_result"
    }
   ],
   "execution_count": 22
  },
  {
   "metadata": {
    "ExecuteTime": {
     "end_time": "2025-08-10T07:19:46.577915Z",
     "start_time": "2025-08-10T07:19:46.574497Z"
    }
   },
   "cell_type": "code",
   "source": [
    "# numpy to tensor\n",
    "np_array = np.array([1,2,'c',7])\n",
    "\n",
    "tf_ = tf.constant(np_array)\n",
    "tf_"
   ],
   "id": "4dd8bcbed6faeaf",
   "outputs": [
    {
     "data": {
      "text/plain": [
       "<tf.Tensor: shape=(4,), dtype=string, numpy=array([b'1', b'2', b'c', b'7'], dtype=object)>"
      ]
     },
     "execution_count": 26,
     "metadata": {},
     "output_type": "execute_result"
    }
   ],
   "execution_count": 26
  },
  {
   "metadata": {
    "ExecuteTime": {
     "end_time": "2025-08-10T07:21:30.425106Z",
     "start_time": "2025-08-10T07:21:30.355644Z"
    }
   },
   "cell_type": "code",
   "source": [
    "# tensor to numpy\n",
    "ts_array = tf.constant([1,2,5,7])\n",
    "np_ = np.array(ts_array)\n",
    "np_"
   ],
   "id": "8ee597fabf231548",
   "outputs": [
    {
     "ename": "ValueError",
     "evalue": "Can't convert Python sequence with mixed types to Tensor.",
     "output_type": "error",
     "traceback": [
      "\u001B[31m---------------------------------------------------------------------------\u001B[39m",
      "\u001B[31mValueError\u001B[39m                                Traceback (most recent call last)",
      "\u001B[36mCell\u001B[39m\u001B[36m \u001B[39m\u001B[32mIn[32]\u001B[39m\u001B[32m, line 2\u001B[39m\n\u001B[32m      1\u001B[39m \u001B[38;5;66;03m# tensor to numpy\u001B[39;00m\n\u001B[32m----> \u001B[39m\u001B[32m2\u001B[39m ts_array = \u001B[43mtf\u001B[49m\u001B[43m.\u001B[49m\u001B[43mconstant\u001B[49m\u001B[43m(\u001B[49m\u001B[43m[\u001B[49m\u001B[32;43m1\u001B[39;49m\u001B[43m,\u001B[49m\u001B[32;43m2\u001B[39;49m\u001B[43m,\u001B[49m\u001B[33;43m'\u001B[39;49m\u001B[33;43mc\u001B[39;49m\u001B[33;43m'\u001B[39;49m\u001B[43m,\u001B[49m\u001B[32;43m7\u001B[39;49m\u001B[43m]\u001B[49m\u001B[43m)\u001B[49m\n\u001B[32m      3\u001B[39m np_ = np.array(ts_array)\n\u001B[32m      4\u001B[39m np_\n",
      "\u001B[36mFile \u001B[39m\u001B[32m~/Desktop/MachineLearning/ml-dl-computer-vision-journey/.venv/lib/python3.12/site-packages/tensorflow/python/ops/weak_tensor_ops.py:142\u001B[39m, in \u001B[36mweak_tensor_binary_op_wrapper.<locals>.wrapper\u001B[39m\u001B[34m(*args, **kwargs)\u001B[39m\n\u001B[32m    140\u001B[39m \u001B[38;5;28;01mdef\u001B[39;00m\u001B[38;5;250m \u001B[39m\u001B[34mwrapper\u001B[39m(*args, **kwargs):\n\u001B[32m    141\u001B[39m   \u001B[38;5;28;01mif\u001B[39;00m \u001B[38;5;129;01mnot\u001B[39;00m ops.is_auto_dtype_conversion_enabled():\n\u001B[32m--> \u001B[39m\u001B[32m142\u001B[39m     \u001B[38;5;28;01mreturn\u001B[39;00m \u001B[43mop\u001B[49m\u001B[43m(\u001B[49m\u001B[43m*\u001B[49m\u001B[43margs\u001B[49m\u001B[43m,\u001B[49m\u001B[43m \u001B[49m\u001B[43m*\u001B[49m\u001B[43m*\u001B[49m\u001B[43mkwargs\u001B[49m\u001B[43m)\u001B[49m\n\u001B[32m    143\u001B[39m   bound_arguments = signature.bind(*args, **kwargs)\n\u001B[32m    144\u001B[39m   bound_arguments.apply_defaults()\n",
      "\u001B[36mFile \u001B[39m\u001B[32m~/Desktop/MachineLearning/ml-dl-computer-vision-journey/.venv/lib/python3.12/site-packages/tensorflow/python/framework/constant_op.py:276\u001B[39m, in \u001B[36mconstant\u001B[39m\u001B[34m(value, dtype, shape, name)\u001B[39m\n\u001B[32m    177\u001B[39m \u001B[38;5;129m@tf_export\u001B[39m(\u001B[33m\"\u001B[39m\u001B[33mconstant\u001B[39m\u001B[33m\"\u001B[39m, v1=[])\n\u001B[32m    178\u001B[39m \u001B[38;5;28;01mdef\u001B[39;00m\u001B[38;5;250m \u001B[39m\u001B[34mconstant\u001B[39m(\n\u001B[32m    179\u001B[39m     value, dtype=\u001B[38;5;28;01mNone\u001B[39;00m, shape=\u001B[38;5;28;01mNone\u001B[39;00m, name=\u001B[33m\"\u001B[39m\u001B[33mConst\u001B[39m\u001B[33m\"\u001B[39m\n\u001B[32m    180\u001B[39m ) -> Union[ops.Operation, ops._EagerTensorBase]:\n\u001B[32m    181\u001B[39m \u001B[38;5;250m  \u001B[39m\u001B[33;03m\"\"\"Creates a constant tensor from a tensor-like object.\u001B[39;00m\n\u001B[32m    182\u001B[39m \n\u001B[32m    183\u001B[39m \u001B[33;03m  Note: All eager `tf.Tensor` values are immutable (in contrast to\u001B[39;00m\n\u001B[32m   (...)\u001B[39m\u001B[32m    274\u001B[39m \u001B[33;03m    ValueError: if called on a symbolic tensor.\u001B[39;00m\n\u001B[32m    275\u001B[39m \u001B[33;03m  \"\"\"\u001B[39;00m\n\u001B[32m--> \u001B[39m\u001B[32m276\u001B[39m   \u001B[38;5;28;01mreturn\u001B[39;00m \u001B[43m_constant_impl\u001B[49m\u001B[43m(\u001B[49m\u001B[43mvalue\u001B[49m\u001B[43m,\u001B[49m\u001B[43m \u001B[49m\u001B[43mdtype\u001B[49m\u001B[43m,\u001B[49m\u001B[43m \u001B[49m\u001B[43mshape\u001B[49m\u001B[43m,\u001B[49m\u001B[43m \u001B[49m\u001B[43mname\u001B[49m\u001B[43m,\u001B[49m\u001B[43m \u001B[49m\u001B[43mverify_shape\u001B[49m\u001B[43m=\u001B[49m\u001B[38;5;28;43;01mFalse\u001B[39;49;00m\u001B[43m,\u001B[49m\n\u001B[32m    277\u001B[39m \u001B[43m                        \u001B[49m\u001B[43mallow_broadcast\u001B[49m\u001B[43m=\u001B[49m\u001B[38;5;28;43;01mTrue\u001B[39;49;00m\u001B[43m)\u001B[49m\n",
      "\u001B[36mFile \u001B[39m\u001B[32m~/Desktop/MachineLearning/ml-dl-computer-vision-journey/.venv/lib/python3.12/site-packages/tensorflow/python/framework/constant_op.py:289\u001B[39m, in \u001B[36m_constant_impl\u001B[39m\u001B[34m(value, dtype, shape, name, verify_shape, allow_broadcast)\u001B[39m\n\u001B[32m    287\u001B[39m     \u001B[38;5;28;01mwith\u001B[39;00m trace.Trace(\u001B[33m\"\u001B[39m\u001B[33mtf.constant\u001B[39m\u001B[33m\"\u001B[39m):\n\u001B[32m    288\u001B[39m       \u001B[38;5;28;01mreturn\u001B[39;00m _constant_eager_impl(ctx, value, dtype, shape, verify_shape)\n\u001B[32m--> \u001B[39m\u001B[32m289\u001B[39m   \u001B[38;5;28;01mreturn\u001B[39;00m \u001B[43m_constant_eager_impl\u001B[49m\u001B[43m(\u001B[49m\u001B[43mctx\u001B[49m\u001B[43m,\u001B[49m\u001B[43m \u001B[49m\u001B[43mvalue\u001B[49m\u001B[43m,\u001B[49m\u001B[43m \u001B[49m\u001B[43mdtype\u001B[49m\u001B[43m,\u001B[49m\u001B[43m \u001B[49m\u001B[43mshape\u001B[49m\u001B[43m,\u001B[49m\u001B[43m \u001B[49m\u001B[43mverify_shape\u001B[49m\u001B[43m)\u001B[49m\n\u001B[32m    291\u001B[39m const_tensor = ops._create_graph_constant(  \u001B[38;5;66;03m# pylint: disable=protected-access\u001B[39;00m\n\u001B[32m    292\u001B[39m     value, dtype, shape, name, verify_shape, allow_broadcast\n\u001B[32m    293\u001B[39m )\n\u001B[32m    294\u001B[39m \u001B[38;5;28;01mreturn\u001B[39;00m const_tensor\n",
      "\u001B[36mFile \u001B[39m\u001B[32m~/Desktop/MachineLearning/ml-dl-computer-vision-journey/.venv/lib/python3.12/site-packages/tensorflow/python/framework/constant_op.py:301\u001B[39m, in \u001B[36m_constant_eager_impl\u001B[39m\u001B[34m(ctx, value, dtype, shape, verify_shape)\u001B[39m\n\u001B[32m    297\u001B[39m \u001B[38;5;28;01mdef\u001B[39;00m\u001B[38;5;250m \u001B[39m\u001B[34m_constant_eager_impl\u001B[39m(\n\u001B[32m    298\u001B[39m     ctx, value, dtype, shape, verify_shape\n\u001B[32m    299\u001B[39m ) -> ops._EagerTensorBase:\n\u001B[32m    300\u001B[39m \u001B[38;5;250m  \u001B[39m\u001B[33;03m\"\"\"Creates a constant on the current device.\"\"\"\u001B[39;00m\n\u001B[32m--> \u001B[39m\u001B[32m301\u001B[39m   t = \u001B[43mconvert_to_eager_tensor\u001B[49m\u001B[43m(\u001B[49m\u001B[43mvalue\u001B[49m\u001B[43m,\u001B[49m\u001B[43m \u001B[49m\u001B[43mctx\u001B[49m\u001B[43m,\u001B[49m\u001B[43m \u001B[49m\u001B[43mdtype\u001B[49m\u001B[43m)\u001B[49m\n\u001B[32m    302\u001B[39m   \u001B[38;5;28;01mif\u001B[39;00m shape \u001B[38;5;129;01mis\u001B[39;00m \u001B[38;5;28;01mNone\u001B[39;00m:\n\u001B[32m    303\u001B[39m     \u001B[38;5;28;01mreturn\u001B[39;00m t\n",
      "\u001B[36mFile \u001B[39m\u001B[32m~/Desktop/MachineLearning/ml-dl-computer-vision-journey/.venv/lib/python3.12/site-packages/tensorflow/python/framework/constant_op.py:108\u001B[39m, in \u001B[36mconvert_to_eager_tensor\u001B[39m\u001B[34m(value, ctx, dtype)\u001B[39m\n\u001B[32m    106\u001B[39m     dtype = dtypes.as_dtype(dtype).as_datatype_enum\n\u001B[32m    107\u001B[39m ctx.ensure_initialized()\n\u001B[32m--> \u001B[39m\u001B[32m108\u001B[39m \u001B[38;5;28;01mreturn\u001B[39;00m \u001B[43mops\u001B[49m\u001B[43m.\u001B[49m\u001B[43mEagerTensor\u001B[49m\u001B[43m(\u001B[49m\u001B[43mvalue\u001B[49m\u001B[43m,\u001B[49m\u001B[43m \u001B[49m\u001B[43mctx\u001B[49m\u001B[43m.\u001B[49m\u001B[43mdevice_name\u001B[49m\u001B[43m,\u001B[49m\u001B[43m \u001B[49m\u001B[43mdtype\u001B[49m\u001B[43m)\u001B[49m\n",
      "\u001B[31mValueError\u001B[39m: Can't convert Python sequence with mixed types to Tensor."
     ]
    }
   ],
   "execution_count": 32
  }
 ],
 "metadata": {
  "kernelspec": {
   "display_name": "Python 3",
   "language": "python",
   "name": "python3"
  },
  "language_info": {
   "codemirror_mode": {
    "name": "ipython",
    "version": 2
   },
   "file_extension": ".py",
   "mimetype": "text/x-python",
   "name": "python",
   "nbconvert_exporter": "python",
   "pygments_lexer": "ipython2",
   "version": "2.7.6"
  }
 },
 "nbformat": 4,
 "nbformat_minor": 5
}
