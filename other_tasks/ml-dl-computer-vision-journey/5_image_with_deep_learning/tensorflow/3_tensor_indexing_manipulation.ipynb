{
 "cells": [
  {
   "cell_type": "code",
   "id": "initial_id",
   "metadata": {
    "collapsed": true,
    "ExecuteTime": {
     "end_time": "2025-08-10T08:38:38.216049Z",
     "start_time": "2025-08-10T08:38:38.208071Z"
    }
   },
   "source": [
    "import os\n",
    "\n",
    "os.environ[\"CUDA_VISIBLE_DEVICES\"] = \"-1\"\n",
    "import tensorflow as tf\n",
    "\n",
    "tensor = tf.constant([\n",
    "    [1, 2, 3],\n",
    "    [4, 5, 6]\n",
    "])\n",
    "\n",
    "print(tensor[0])      # First row → [1, 2, 3]\n",
    "print(tensor[0, 1])   # First row, second column → 2\n",
    "print(tensor[:, 1])   # All rows, second column → [2, 5]\n",
    "print(tensor[1, :])   # Second row, all columns → [4, 5, 6]\n"
   ],
   "outputs": [
    {
     "name": "stdout",
     "output_type": "stream",
     "text": [
      "tf.Tensor([1 2 3], shape=(3,), dtype=int32)\n",
      "tf.Tensor(2, shape=(), dtype=int32)\n",
      "tf.Tensor([2 5], shape=(2,), dtype=int32)\n",
      "tf.Tensor([4 5 6], shape=(3,), dtype=int32)\n"
     ]
    }
   ],
   "execution_count": 3
  },
  {
   "metadata": {
    "ExecuteTime": {
     "end_time": "2025-08-10T08:42:21.660739Z",
     "start_time": "2025-08-10T08:42:21.657034Z"
    }
   },
   "cell_type": "code",
   "source": [
    "print(tensor[-1])       # Last row → [4, 5, 6]\n",
    "print(tensor[:, -1])    # Last column → [3, 6]"
   ],
   "id": "16bdfe6b8269ac72",
   "outputs": [
    {
     "name": "stdout",
     "output_type": "stream",
     "text": [
      "tf.Tensor([4 5 6], shape=(3,), dtype=int32)\n",
      "tf.Tensor([3 6], shape=(2,), dtype=int32)\n"
     ]
    }
   ],
   "execution_count": 7
  },
  {
   "metadata": {
    "ExecuteTime": {
     "end_time": "2025-08-10T08:42:28.321641Z",
     "start_time": "2025-08-10T08:42:28.318221Z"
    }
   },
   "cell_type": "code",
   "source": [
    "# [start:stop] inclusive.\n",
    "print(tensor[0:2, 1:3])  # Rows 0–1, columns 1–2 → [[2, 3], [5, 6]]"
   ],
   "id": "3255e265f636383e",
   "outputs": [
    {
     "name": "stdout",
     "output_type": "stream",
     "text": [
      "tf.Tensor(\n",
      "[[2 3]\n",
      " [5 6]], shape=(2, 2), dtype=int32)\n"
     ]
    }
   ],
   "execution_count": 8
  },
  {
   "metadata": {
    "ExecuteTime": {
     "end_time": "2025-08-10T08:44:06.452964Z",
     "start_time": "2025-08-10T08:44:06.437657Z"
    }
   },
   "cell_type": "code",
   "source": [
    "# boolean masking\n",
    "mask = tensor > 50\n",
    "print(mask.numpy())   # Boolean matrix\n",
    "print(tf.boolean_mask(tensor, mask))  # Values > 50 → [70 80 90]\n"
   ],
   "id": "63451e7aa8b15d44",
   "outputs": [
    {
     "name": "stdout",
     "output_type": "stream",
     "text": [
      "[[False False False]\n",
      " [False False False]]\n",
      "tf.Tensor([], shape=(0,), dtype=int32)\n"
     ]
    }
   ],
   "execution_count": 9
  },
  {
   "metadata": {
    "ExecuteTime": {
     "end_time": "2025-08-10T08:45:40.611933Z",
     "start_time": "2025-08-10T08:45:40.606685Z"
    }
   },
   "cell_type": "code",
   "source": [
    "t = tf.range(1,13)\n",
    "reshaped = tf.reshape(t, [4, 3])\n",
    "reshaped"
   ],
   "id": "40f8a03340c562cb",
   "outputs": [
    {
     "data": {
      "text/plain": [
       "<tf.Tensor: shape=(4, 3), dtype=int32, numpy=\n",
       "array([[ 1,  2,  3],\n",
       "       [ 4,  5,  6],\n",
       "       [ 7,  8,  9],\n",
       "       [10, 11, 12]], dtype=int32)>"
      ]
     },
     "execution_count": 14,
     "metadata": {},
     "output_type": "execute_result"
    }
   ],
   "execution_count": 14
  },
  {
   "metadata": {
    "ExecuteTime": {
     "end_time": "2025-08-10T08:46:26.919331Z",
     "start_time": "2025-08-10T08:46:26.915678Z"
    }
   },
   "cell_type": "code",
   "source": [
    "# flatten\n",
    "flat = tf.reshape(t, [-1])\n",
    "print(flat)"
   ],
   "id": "e48976e39c6d1632",
   "outputs": [
    {
     "name": "stdout",
     "output_type": "stream",
     "text": [
      "tf.Tensor([ 1  2  3  4  5  6  7  8  9 10 11 12], shape=(12,), dtype=int32)\n"
     ]
    }
   ],
   "execution_count": 15
  },
  {
   "metadata": {
    "ExecuteTime": {
     "end_time": "2025-08-10T08:52:32.567715Z",
     "start_time": "2025-08-10T08:52:32.563860Z"
    }
   },
   "cell_type": "code",
   "source": [
    "# 8. Adding / Removing Dimensions\n",
    "a = tf.constant([1, 2, 3])\n",
    "\n",
    "# Add dimension\n",
    "a_expanded = tf.expand_dims(a, axis=0)  # Shape: (1, 3)\n",
    "a_expanded2 = tf.expand_dims(a, axis=-1) # Shape: (3, 1)\n",
    "\n",
    "# Remove dimension\n",
    "a_squeezed = tf.squeeze(a_expanded)     # Shape: (3,)\n",
    "print(f\"a_expanded: {a_expanded.numpy()}\")\n",
    "print(f\"a_expanded2: {a_expanded2.numpy()}\")\n",
    "print(f\"a_squeezed: {a_squeezed.numpy()}\")\n",
    "\n"
   ],
   "id": "b08c54d5c71a79d0",
   "outputs": [
    {
     "name": "stdout",
     "output_type": "stream",
     "text": [
      "a_expanded: [[1 2 3]]\n",
      "a_expanded2: [[1]\n",
      " [2]\n",
      " [3]]\n",
      "a_squeezed: [1 2 3]\n"
     ]
    }
   ],
   "execution_count": 17
  }
 ],
 "metadata": {
  "kernelspec": {
   "display_name": "Python 3",
   "language": "python",
   "name": "python3"
  },
  "language_info": {
   "codemirror_mode": {
    "name": "ipython",
    "version": 2
   },
   "file_extension": ".py",
   "mimetype": "text/x-python",
   "name": "python",
   "nbconvert_exporter": "python",
   "pygments_lexer": "ipython2",
   "version": "2.7.6"
  }
 },
 "nbformat": 4,
 "nbformat_minor": 5
}
