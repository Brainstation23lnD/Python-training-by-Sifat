{
 "cells": [
  {
   "metadata": {
    "collapsed": true
   },
   "cell_type": "markdown",
   "source": [
    "### Simplified Model Building Flow\n",
    "Here’s a clear **model-building workflow** in Keras (TensorFlow), covering the steps from idea to training, with the **common layer types** you'll likely use.\n",
    "\n",
    "---\n",
    "\n",
    "## **1. Define the Problem**\n",
    "\n",
    "* **Goal:** Classification, regression, segmentation, etc.\n",
    "* **Inputs:** Shape and type of your data (images, sequences, tabular).\n",
    "* **Outputs:** Number of classes or continuous targets.\n",
    "\n",
    "---\n",
    "\n",
    "## **2. Prepare the Data**\n",
    "\n",
    "* **Load data** (`tf.data`, `ImageDataGenerator`, pandas).\n",
    "* **Preprocess** (normalize, resize, one-hot encode labels).\n",
    "* **Split** into training, validation, test sets.\n",
    "\n",
    "---\n",
    "\n",
    "## **3. Choose Model Architecture**\n",
    "\n",
    "Two main approaches in Keras:\n",
    "\n",
    "### **A. Sequential API** – Best for simple, feedforward stacks of layers\n",
    "\n",
    "```python\n",
    "from tensorflow.keras import Sequential\n",
    "from tensorflow.keras.layers import Dense, Flatten, Conv2D, MaxPooling2D, Dropout\n",
    "\n",
    "model = Sequential([\n",
    "    Conv2D(32, (3, 3), activation='relu', input_shape=(64, 64, 3)),\n",
    "    MaxPooling2D((2, 2)),\n",
    "    Flatten(),\n",
    "    Dense(64, activation='relu'),\n",
    "    Dropout(0.5),\n",
    "    Dense(10, activation='softmax')  # output layer\n",
    "])\n",
    "```\n",
    "\n",
    "### **B. Functional API** – Flexible, for complex or multi-input/output models\n",
    "\n",
    "```python\n",
    "from tensorflow.keras import Model, Input\n",
    "from tensorflow.keras.layers import Dense, Flatten, Conv2D, MaxPooling2D, Dropout\n",
    "\n",
    "inputs = Input(shape=(64, 64, 3))\n",
    "x = Conv2D(32, (3, 3), activation='relu')(inputs)\n",
    "x = MaxPooling2D((2, 2))(x)\n",
    "x = Flatten()(x)\n",
    "x = Dense(64, activation='relu')(x)\n",
    "x = Dropout(0.5)(x)\n",
    "outputs = Dense(10, activation='softmax')(x)\n",
    "\n",
    "model = Model(inputs, outputs)\n",
    "```\n",
    "\n",
    "---\n",
    "\n",
    "## **4. Compile the Model**\n",
    "\n",
    "```python\n",
    "model.compile(\n",
    "    optimizer='adam',  # or SGD, RMSprop, etc.\n",
    "    loss='categorical_crossentropy',  # or mse, binary_crossentropy, etc.\n",
    "    metrics=['accuracy']\n",
    ")\n",
    "```\n",
    "\n",
    "---\n",
    "\n",
    "## **5. Train the Model**\n",
    "\n",
    "```python\n",
    "history = model.fit(\n",
    "    train_data,\n",
    "    validation_data=val_data,\n",
    "    epochs=20,\n",
    "    batch_size=32\n",
    ")\n",
    "```\n",
    "\n",
    "---\n",
    "\n",
    "## **6. Evaluate the Model**\n",
    "\n",
    "```python\n",
    "test_loss, test_acc = model.evaluate(test_data)\n",
    "print(f\"Test Accuracy: {test_acc:.2f}\")\n",
    "```\n",
    "\n",
    "---\n",
    "\n",
    "## **7. Fine-tune & Optimize**\n",
    "\n",
    "* **Adjust architecture** (more layers, different activations).\n",
    "* **Regularization** (Dropout, L2).\n",
    "* **Learning rate schedules**.\n",
    "* **Early stopping** with callbacks.\n",
    "\n",
    "---\n",
    "\n",
    "## **Common Keras Layers**\n",
    "\n",
    "| Layer                      | Purpose                                               |\n",
    "| -------------------------- | ----------------------------------------------------- |\n",
    "| **Dense**                  | Fully connected layer for classification/regression.  |\n",
    "| **Conv2D**                 | Convolution for extracting spatial features (images). |\n",
    "| **MaxPooling2D**           | Downsampling to reduce computation.                   |\n",
    "| **Flatten**                | Flatten 2D/3D data into 1D.                           |\n",
    "| **Dropout**                | Regularization to prevent overfitting.                |\n",
    "| **BatchNormalization**     | Normalize layer outputs for stability.                |\n",
    "| **Embedding**              | Learnable vector representation (for NLP).            |\n",
    "| **LSTM / GRU**             | Sequence processing (RNNs).                           |\n",
    "| **GlobalAveragePooling2D** | Reduces each feature map to a single value.           |\n",
    "\n",
    "---\n",
    "\n",
    "If you want, I can give you **a complete diagram** showing the **end-to-end Keras model building workflow**, including where each type of layer fits. That would make it much easier to visualize.\n",
    "\n",
    "\n"
   ],
   "id": "3f39a7cc5ffe4973"
  },
  {
   "metadata": {
    "ExecuteTime": {
     "end_time": "2025-08-11T13:03:18.222387Z",
     "start_time": "2025-08-11T13:02:25.515848Z"
    }
   },
   "cell_type": "code",
   "source": [
    "import os\n",
    "\n",
    "os.environ[\"CUDA_VISIBLE_DEVICES\"] = \"-1\"\n",
    "import keras\n",
    "import numpy as np\n",
    "\n",
    "x = np.random.rand(4, 10, 10, 128)\n",
    "y = keras.layers.Conv2D(32, 3, activation='relu')(x)\n",
    "print(y.shape)"
   ],
   "id": "8c921b81df247915",
   "outputs": [
    {
     "name": "stdout",
     "output_type": "stream",
     "text": [
      "(4, 8, 8, 32)\n"
     ]
    }
   ],
   "execution_count": 4
  },
  {
   "metadata": {
    "ExecuteTime": {
     "end_time": "2025-08-11T13:10:03.277524Z",
     "start_time": "2025-08-11T13:10:03.188695Z"
    }
   },
   "cell_type": "code",
   "source": [
    "import numpy as np\n",
    "import tensorflow as tf\n",
    "from tensorflow.keras.models import Sequential\n",
    "from tensorflow.keras.layers import Conv2D\n",
    "\n",
    "# Create a simple 5x5 grayscale \"image\" (batch size = 1, height=5, width=5, channels=1)\n",
    "input_image = np.array([[\n",
    "    [[1], [1], [1], [0], [0]],\n",
    "    [[0], [1], [1], [1], [0]],\n",
    "    [[0], [0], [1], [1], [1]],\n",
    "    [[0], [0], [1], [1], [0]],\n",
    "    [[0], [1], [1], [0], [0]]\n",
    "]], dtype=np.float32)\n",
    "\n",
    "print(\"Input image shape:\", input_image.shape)\n",
    "# (1, 5, 5, 1)\n",
    "\n",
    "# Build a model with 1 Conv2D layer, 1 filter, kernel size 3x3, no padding, stride=1\n",
    "model = Sequential([\n",
    "    Conv2D(filters=1, kernel_size=(3, 3), strides=1, padding='valid', use_bias=False, input_shape=(5, 5, 1))\n",
    "])\n",
    "\n",
    "# Manually set filter weights to our kernel pattern:\n",
    "kernel = np.array([[[[1]], [[0]], [[1]]],\n",
    "                   [[[0]], [[1]], [[0]]],\n",
    "                   [[[1]], [[0]], [[1]]]], dtype=np.float32)\n",
    "\n",
    "model.layers[0].set_weights([kernel])\n",
    "\n",
    "# Run the image through the model\n",
    "output = model.predict(input_image)\n",
    "\n",
    "print(\"Output feature map shape:\", output.shape)\n",
    "print(\"Output feature map:\")\n",
    "print(np.squeeze(output))  # remove single dimensions for easy reading\n"
   ],
   "id": "2d666c6cce89ddbf",
   "outputs": [
    {
     "name": "stdout",
     "output_type": "stream",
     "text": [
      "Input image shape: (1, 5, 5, 1)\n",
      "\u001B[1m1/1\u001B[0m \u001B[32m━━━━━━━━━━━━━━━━━━━━\u001B[0m\u001B[37m\u001B[0m \u001B[1m0s\u001B[0m 34ms/step\n",
      "Output feature map shape: (1, 3, 3, 1)\n",
      "Output feature map:\n",
      "[[4. 3. 4.]\n",
      " [2. 4. 3.]\n",
      " [2. 3. 4.]]\n"
     ]
    },
    {
     "name": "stderr",
     "output_type": "stream",
     "text": [
      "/home/bs00815/Desktop/MachineLearning/ml-dl-computer-vision-journey/.venv/lib/python3.12/site-packages/keras/src/layers/convolutional/base_conv.py:113: UserWarning: Do not pass an `input_shape`/`input_dim` argument to a layer. When using Sequential models, prefer using an `Input(shape)` object as the first layer in the model instead.\n",
      "  super().__init__(activity_regularizer=activity_regularizer, **kwargs)\n"
     ]
    }
   ],
   "execution_count": 5
  },
  {
   "metadata": {
    "ExecuteTime": {
     "end_time": "2025-08-11T13:13:42.599052Z",
     "start_time": "2025-08-11T13:13:42.593067Z"
    }
   },
   "cell_type": "code",
   "source": [
    "input_image = np.array([[\n",
    "    [[1, 0, 0], [2, 0, 0], [3, 0, 0], [4, 0, 0]],\n",
    "    [[0, 1, 0], [0, 2, 0], [0, 3, 0], [0, 4, 0]],\n",
    "    [[0, 0, 1], [0, 0, 2], [0, 0, 3], [0, 0, 4]],\n",
    "    [[1, 1, 1], [2, 2, 2], [3, 3, 3], [4, 4, 4]],\n",
    "]], dtype=np.float32)\n",
    "input_image.shape"
   ],
   "id": "768e9b4af23cb88e",
   "outputs": [
    {
     "data": {
      "text/plain": [
       "(1, 4, 4, 3)"
      ]
     },
     "execution_count": 6,
     "metadata": {},
     "output_type": "execute_result"
    }
   ],
   "execution_count": 6
  }
 ],
 "metadata": {
  "kernelspec": {
   "display_name": "Python 3",
   "language": "python",
   "name": "python3"
  },
  "language_info": {
   "codemirror_mode": {
    "name": "ipython",
    "version": 2
   },
   "file_extension": ".py",
   "mimetype": "text/x-python",
   "name": "python",
   "nbconvert_exporter": "python",
   "pygments_lexer": "ipython2",
   "version": "2.7.6"
  }
 },
 "nbformat": 4,
 "nbformat_minor": 5
}
