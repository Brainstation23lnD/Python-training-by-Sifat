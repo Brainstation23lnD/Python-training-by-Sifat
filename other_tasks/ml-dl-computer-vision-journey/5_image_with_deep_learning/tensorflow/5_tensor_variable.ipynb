{
 "cells": [
  {
   "metadata": {
    "collapsed": true,
    "ExecuteTime": {
     "end_time": "2025-08-11T06:26:11.893028Z",
     "start_time": "2025-08-11T06:26:11.886402Z"
    }
   },
   "cell_type": "markdown",
   "source": [
    "TensorFlow-এ Variable হলো এমন একটি টেনসর যেটা mutable — অর্থাৎ এর মান (value) ট্রেইনিং চলাকালীন পরিবর্তন হতে পারে।\n",
    "এটা মূলত Machine Learning মডেলের weights এবং biases সংরক্ষণের জন্য ব্যবহৃত হয়।"
   ],
   "id": "28129c14b0cbe37d"
  },
  {
   "metadata": {
    "ExecuteTime": {
     "end_time": "2025-08-11T07:37:57.882698Z",
     "start_time": "2025-08-11T07:37:57.878401Z"
    }
   },
   "cell_type": "code",
   "source": [
    "import os\n",
    "\n",
    "os.environ[\"CUDA_VISIBLE_DEVICES\"] = \"-1\"\n",
    "import tensorflow as tf\n",
    "\n",
    "# একটা ভ্যারিয়েবল তৈরি\n",
    "v = tf.Variable([1, 2, 3], dtype=tf.int32)\n",
    "\n",
    "print(\"Value:\", v.numpy())\n",
    "print(\"Shape:\", v.shape)\n",
    "print(\"Data type:\", v.dtype)\n"
   ],
   "id": "b71dd6f899c81f79",
   "outputs": [
    {
     "name": "stdout",
     "output_type": "stream",
     "text": [
      "Value: [1 2 3]\n",
      "Shape: (3,)\n",
      "Data type: <dtype: 'int32'>\n"
     ]
    }
   ],
   "execution_count": 36
  },
  {
   "metadata": {},
   "cell_type": "markdown",
   "source": [
    "## 2️⃣ Variable পরিবর্তন (assign) করা\n",
    "\n",
    "Variable-এর মান পরিবর্তন করতে .assign() বা .assign_add() ব্যবহার করা হয়"
   ],
   "id": "b52cf9bd57574b25"
  },
  {
   "metadata": {
    "ExecuteTime": {
     "end_time": "2025-08-11T07:37:57.936153Z",
     "start_time": "2025-08-11T07:37:57.931051Z"
    }
   },
   "cell_type": "code",
   "source": [
    "# assign দিয়ে পুরো ভ্যালু সেট করা\n",
    "v.assign([4, 5, 6])\n",
    "print(\"After assign:\", v.numpy())\n",
    "\n",
    "# assign_add দিয়ে যোগ করা\n",
    "v.assign_add([1, 1, 1])\n",
    "print(\"After assign_add:\", v.numpy())\n",
    "\n",
    "# assign_sub দিয়ে বাদ দেওয়া\n",
    "v.assign_sub([2, 2, 2])\n",
    "print(\"After assign_sub:\", v.numpy())"
   ],
   "id": "2289b14eef73ede0",
   "outputs": [
    {
     "name": "stdout",
     "output_type": "stream",
     "text": [
      "After assign: [4 5 6]\n",
      "After assign_add: [5 6 7]\n",
      "After assign_sub: [3 4 5]\n"
     ]
    }
   ],
   "execution_count": 37
  },
  {
   "metadata": {},
   "cell_type": "markdown",
   "source": [
    "## 3️⃣ Scalar Variable\n",
    "\n",
    "Variable scalar (একটা মাত্র ভ্যালু) হতে পারে।"
   ],
   "id": "7a7d5bc37817fa10"
  },
  {
   "metadata": {
    "ExecuteTime": {
     "end_time": "2025-08-11T07:37:57.987438Z",
     "start_time": "2025-08-11T07:37:57.982803Z"
    }
   },
   "cell_type": "code",
   "source": [
    "scalar_var = tf.Variable(5.0)\n",
    "print(\"Scalar variable:\", scalar_var.numpy())\n",
    "\n",
    "scalar_var.assign(10.0)\n",
    "print(\"Updated scalar variable:\", scalar_var.numpy())"
   ],
   "id": "466eae424999a890",
   "outputs": [
    {
     "name": "stdout",
     "output_type": "stream",
     "text": [
      "Scalar variable: 5.0\n",
      "Updated scalar variable: 10.0\n"
     ]
    }
   ],
   "execution_count": 38
  },
  {
   "metadata": {},
   "cell_type": "markdown",
   "source": [
    "## 4️⃣ Variable copy করা (Deep Copy vs Reference)\n",
    "\n",
    "TensorFlow-এ যখন Variable কপি করো, সেটা deep copy হয়, reference না।"
   ],
   "id": "9d0e9ed2b7bd1a9b"
  },
  {
   "metadata": {
    "ExecuteTime": {
     "end_time": "2025-08-11T07:37:58.042187Z",
     "start_time": "2025-08-11T07:37:58.035931Z"
    }
   },
   "cell_type": "code",
   "source": [
    "a = tf.Variable([2.0, 3.0])\n",
    "b = tf.Variable(a)  # Deep copy\n",
    "\n",
    "a.assign([5.0, 6.0])\n",
    "print(\"a:\", a.numpy())  # পরিবর্তিত\n",
    "print(\"b:\", b.numpy())  # অপরিবর্তিত\n",
    "# Real life use case: Model weights safe backup রাখা, যাতে ট্রেইনিং চলাকালীন পুরনো version হারিয়ে না যায়।"
   ],
   "id": "7250ef46cae3947e",
   "outputs": [
    {
     "name": "stdout",
     "output_type": "stream",
     "text": [
      "a: [5. 6.]\n",
      "b: [2. 3.]\n"
     ]
    }
   ],
   "execution_count": 39
  },
  {
   "metadata": {},
   "cell_type": "markdown",
   "source": [
    "## 5️⃣ Variable এবং গ্র্যাডিয়েন্ট (Gradient Tape Example)\n",
    "\n",
    "Variable সাধারণত মডেলের trainable parameter হিসেবে কাজ করে। Gradient Tape দিয়ে gradient বের করা হয়।"
   ],
   "id": "a1c6693e31ad01f4"
  },
  {
   "metadata": {
    "ExecuteTime": {
     "end_time": "2025-08-11T07:37:58.095217Z",
     "start_time": "2025-08-11T07:37:58.089084Z"
    }
   },
   "cell_type": "code",
   "source": [
    "x = tf.Variable(3.0)\n",
    "\n",
    "with tf.GradientTape() as tape:\n",
    "    y = x ** 2 + 2 * x + 1  # simple quadratic function\n",
    "\n",
    "grad = tape.gradient(y, x)\n",
    "print(\"Gradient dy/dx:\", grad.numpy())  # derivative: 2x + 2 → x=3 হলে 8\n",
    "# Real life use case: Neural network weight update করার জন্য gradient বের করা।"
   ],
   "id": "265886832b54b3bb",
   "outputs": [
    {
     "name": "stdout",
     "output_type": "stream",
     "text": [
      "Gradient dy/dx: 8.0\n"
     ]
    }
   ],
   "execution_count": 40
  },
  {
   "metadata": {
    "ExecuteTime": {
     "end_time": "2025-08-11T07:37:58.148075Z",
     "start_time": "2025-08-11T07:37:58.141734Z"
    }
   },
   "cell_type": "code",
   "source": [
    "import tensorflow as tf\n",
    "\n",
    "# Variable\n",
    "x = tf.Variable(3.0)\n",
    "\n",
    "with tf.GradientTape() as tape:\n",
    "    y = (x - 5) ** 2  # Parabola, minimum at x=5\n",
    "\n",
    "grad = tape.gradient(y, x)\n",
    "\n",
    "print(\"Gradient:\", grad.numpy())\n",
    "\n",
    "if abs(grad.numpy()) > 1:\n",
    "    print(\"🔴 Gradient বড় — steep ঢাল, ছোট step নিতে হবে\")\n",
    "else:\n",
    "    print(\"🟢 Gradient ছোট — ঢাল কম, step বড় নেওয়া যেতে পারে\")\n"
   ],
   "id": "54e9c707ddc8010e",
   "outputs": [
    {
     "name": "stdout",
     "output_type": "stream",
     "text": [
      "Gradient: -4.0\n",
      "🔴 Gradient বড় — steep ঢাল, ছোট step নিতে হবে\n"
     ]
    }
   ],
   "execution_count": 41
  },
  {
   "metadata": {
    "ExecuteTime": {
     "end_time": "2025-08-11T07:37:58.194233Z",
     "start_time": "2025-08-11T07:37:58.191719Z"
    }
   },
   "cell_type": "code",
   "source": "## 7️⃣ Variable as Model Parameters (Simple Linear Regression Example)",
   "id": "a80cc2f2e9c0ed83",
   "outputs": [],
   "execution_count": 42
  },
  {
   "metadata": {
    "ExecuteTime": {
     "end_time": "2025-08-11T07:38:43.014616Z",
     "start_time": "2025-08-11T07:38:00.527046Z"
    }
   },
   "cell_type": "code",
   "source": [
    "# Model parameter\n",
    "W = tf.Variable(0.5)\n",
    "b = tf.Variable(1.0)\n",
    "\n",
    "# simple training data\n",
    "X = tf.constant([1.0, 2.0, 3.0, 4.0])\n",
    "Y = tf.constant([5.0, 6.0, 7.0, 8.0]) # y = 2x + 1\n",
    "\n",
    "learning_rate = 0.01\n",
    "for step in range(10):\n",
    "    with tf.GradientTape() as tape:\n",
    "        y_pred = W * X + b\n",
    "        loss = tf.reduce_mean(tf.square(y_pred - Y))\n",
    "        dW, db = tape.gradient(loss, [W, b])\n",
    "        W.assign_sub(learning_rate * dW)\n",
    "        b.assign_sub(learning_rate * db)\n",
    "        print(f\"Step {step+1}: Loss={loss.numpy():.4f}, W={W.numpy():.4f}, b={b.numpy():.4f}\")"
   ],
   "id": "a5fd33fa6c1accd6",
   "outputs": [
    {
     "name": "stdout",
     "output_type": "stream",
     "text": [
      "Step 1: Loss=18.3750, W=0.7250, b=1.0850\n",
      "Step 2: Loss=13.0725, W=0.9120, b=1.1571\n",
      "Step 3: Loss=9.3913, W=1.0673, b=1.2183\n",
      "Step 4: Loss=6.8351, W=1.1963, b=1.2706\n",
      "Step 5: Loss=5.0595, W=1.3034, b=1.3153\n",
      "Step 6: Loss=3.8256, W=1.3921, b=1.3539\n",
      "Step 7: Loss=2.9675, W=1.4656, b=1.3872\n",
      "Step 8: Loss=2.3702, W=1.5264, b=1.4162\n",
      "Step 9: Loss=1.9539, W=1.5766, b=1.4415\n",
      "Step 10: Loss=1.6632, W=1.6180, b=1.4639\n"
     ]
    }
   ],
   "execution_count": 43
  }
 ],
 "metadata": {
  "kernelspec": {
   "display_name": "Python 3",
   "language": "python",
   "name": "python3"
  },
  "language_info": {
   "codemirror_mode": {
    "name": "ipython",
    "version": 2
   },
   "file_extension": ".py",
   "mimetype": "text/x-python",
   "name": "python",
   "nbconvert_exporter": "python",
   "pygments_lexer": "ipython2",
   "version": "2.7.6"
  }
 },
 "nbformat": 4,
 "nbformat_minor": 5
}
