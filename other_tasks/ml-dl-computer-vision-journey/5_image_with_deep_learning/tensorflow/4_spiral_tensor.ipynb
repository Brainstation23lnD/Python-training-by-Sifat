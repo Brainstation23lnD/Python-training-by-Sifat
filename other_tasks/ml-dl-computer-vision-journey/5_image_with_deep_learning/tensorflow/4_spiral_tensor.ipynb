{
 "cells": [
  {
   "cell_type": "code",
   "id": "initial_id",
   "metadata": {
    "collapsed": true,
    "ExecuteTime": {
     "end_time": "2025-08-10T09:09:11.950667Z",
     "start_time": "2025-08-10T09:09:11.947752Z"
    }
   },
   "source": [
    "import os\n",
    "\n",
    "import numpy as np\n",
    "\n",
    "os.environ[\"CUDA_VISIBLE_DEVICES\"] = \"-1\"\n",
    "import tensorflow as tf"
   ],
   "outputs": [],
   "execution_count": 4
  },
  {
   "metadata": {
    "ExecuteTime": {
     "end_time": "2025-08-10T09:11:52.632830Z",
     "start_time": "2025-08-10T09:11:52.629287Z"
    }
   },
   "cell_type": "code",
   "source": [
    "import tensorflow as tf\n",
    "\n",
    "a = tf.constant([[1, 2, 3],\n",
    "                 [4, 5, 6]])   # shape (2,3)\n",
    "\n",
    "b = tf.constant([10, 20, 30])  # shape (3,)\n",
    "\n",
    "result = a + b\n",
    "print(result.numpy())\n"
   ],
   "id": "889487370b259c35",
   "outputs": [
    {
     "name": "stdout",
     "output_type": "stream",
     "text": [
      "[[11 22 33]\n",
      " [14 25 36]]\n"
     ]
    }
   ],
   "execution_count": 7
  },
  {
   "metadata": {
    "ExecuteTime": {
     "end_time": "2025-08-10T09:13:05.349855Z",
     "start_time": "2025-08-10T09:13:05.346796Z"
    }
   },
   "cell_type": "code",
   "source": [
    "# type casting\n",
    "\n",
    "x = tf.constant([1.5, 2.6, 3.2], dtype=tf.float32)\n",
    "y = tf.cast(x, tf.int32)\n",
    "print(y.numpy())\n",
    "# মডেলে precision দরকার হলে float32 → float64 করা যায়।"
   ],
   "id": "3da080d94e56b84e",
   "outputs": [
    {
     "name": "stdout",
     "output_type": "stream",
     "text": [
      "[1 2 3]\n"
     ]
    }
   ],
   "execution_count": 9
  },
  {
   "metadata": {
    "ExecuteTime": {
     "end_time": "2025-08-10T09:13:59.371315Z",
     "start_time": "2025-08-10T09:13:59.366368Z"
    }
   },
   "cell_type": "code",
   "source": [
    "# যেখানে প্রতিটি row-এর length আলাদা হয়। সাধারণ টেন্সরে সব row-এর length সমান হতে হয়, কিন্তু ragged tensor-এ সমান হতে হয় না।\n",
    "\n",
    "rt = tf.ragged.constant([[1, 2, 3], [4, 5]])\n",
    "print(rt.shape)\n",
    "print(rt.shape)\n",
    "# NLP-তে ভিন্ন দৈর্ঘ্যের sentence রাখতে কাজে লাগে।"
   ],
   "id": "48974c31f5b588db",
   "outputs": [
    {
     "name": "stdout",
     "output_type": "stream",
     "text": [
      "(2, None)\n",
      "(2, None)\n"
     ]
    }
   ],
   "execution_count": 10
  },
  {
   "metadata": {
    "ExecuteTime": {
     "end_time": "2025-08-10T09:16:09.234233Z",
     "start_time": "2025-08-10T09:16:09.221455Z"
    }
   },
   "cell_type": "code",
   "source": [
    "st = tf.constant([\"cat\", \"dog\", \"tiger\"])\n",
    "print(st)\n",
    "print(tf.strings.length(st).numpy())  # প্রতিটি string-এর length\n",
    "print(tf.strings.upper(st).numpy())   # সব ক্যাপিটাল\n",
    "# 💡 Text preprocessing-এ দরকার হয়।"
   ],
   "id": "decb91d4b89d06e",
   "outputs": [
    {
     "name": "stdout",
     "output_type": "stream",
     "text": [
      "tf.Tensor([b'cat' b'dog' b'tiger'], shape=(3,), dtype=string)\n",
      "[3 3 5]\n",
      "[b'CAT' b'DOG' b'TIGER']\n"
     ]
    }
   ],
   "execution_count": 14
  },
  {
   "metadata": {
    "ExecuteTime": {
     "end_time": "2025-08-10T09:18:41.005570Z",
     "start_time": "2025-08-10T09:18:40.993423Z"
    }
   },
   "cell_type": "code",
   "source": [
    "# যখন অনেক ডেটা zero বা missing, তখন পুরো dense tensor না বানিয়ে শুধু non-zero entry এবং তাদের অবস্থান রাখা হয় — মেমরি বাঁচে।\n",
    "\n",
    "st = tf.sparse.SparseTensor(\n",
    "    indices=[[0,0], [1,2]],\n",
    "    values=[\"a\", \"b\"],\n",
    "    dense_shape=[3, 4]\n",
    ")\n",
    "print(st)\n",
    "\n",
    "dense = tf.sparse.to_dense(st)\n",
    "print(dense)\n",
    "# 💡 অনেক বড় ম্যাট্রিক্সে, যেখানে বেশিরভাগ মান 0, sparse tensor ব্যবহার করলে মেমরি অনেক কম লাগে।"
   ],
   "id": "3eb4a44acc687e26",
   "outputs": [
    {
     "name": "stdout",
     "output_type": "stream",
     "text": [
      "SparseTensor(indices=tf.Tensor(\n",
      "[[0 0]\n",
      " [1 2]], shape=(2, 2), dtype=int64), values=tf.Tensor([b'a' b'b'], shape=(2,), dtype=string), dense_shape=tf.Tensor([3 4], shape=(2,), dtype=int64))\n",
      "tf.Tensor(\n",
      "[[b'a' b'' b'' b'']\n",
      " [b'' b'' b'b' b'']\n",
      " [b'' b'' b'' b'']], shape=(3, 4), dtype=string)\n"
     ]
    }
   ],
   "execution_count": 18
  },
  {
   "metadata": {
    "ExecuteTime": {
     "end_time": "2025-08-11T05:41:28.408561Z",
     "start_time": "2025-08-11T05:41:28.404864Z"
    }
   },
   "cell_type": "code",
   "source": [
    "import numpy as np\n",
    "arr1 = np.array([1,2,3])\n",
    "arr2 = np.array([[2],[1]])\n",
    "arr1 + arr2"
   ],
   "id": "9d786099e092b3c1",
   "outputs": [
    {
     "data": {
      "text/plain": [
       "array([[3, 4, 5],\n",
       "       [2, 3, 4]])"
      ]
     },
     "execution_count": 7,
     "metadata": {},
     "output_type": "execute_result"
    }
   ],
   "execution_count": 7
  }
 ],
 "metadata": {
  "kernelspec": {
   "display_name": "Python 3",
   "language": "python",
   "name": "python3"
  },
  "language_info": {
   "codemirror_mode": {
    "name": "ipython",
    "version": 2
   },
   "file_extension": ".py",
   "mimetype": "text/x-python",
   "name": "python",
   "nbconvert_exporter": "python",
   "pygments_lexer": "ipython2",
   "version": "2.7.6"
  }
 },
 "nbformat": 4,
 "nbformat_minor": 5
}
